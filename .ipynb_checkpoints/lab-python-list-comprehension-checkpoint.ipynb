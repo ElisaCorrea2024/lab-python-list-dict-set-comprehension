{
 "cells": [
  {
   "cell_type": "code",
   "execution_count": 3,
   "id": "3b803c9f-88a3-41e6-b8ef-2c40eca4e2c9",
   "metadata": {},
   "outputs": [],
   "source": [
    "def initialize_inventory(products):\n",
    "    \"\"\"Initialize the inventory dictionary using comprehension.\"\"\"\n",
    "    return {product: int(input(f\"Enter the quantity of {product}s available: \")) for product in products}"
   ]
  },
  {
   "cell_type": "code",
   "execution_count": 5,
   "id": "d44f43e9-882f-48a3-9fbd-7df065822498",
   "metadata": {},
   "outputs": [],
   "source": [
    "def get_customer_orders():\n",
    "    \"\"\"Prompt the user to enter the number of customer orders and gather product names using comprehension.\"\"\"\n",
    "    num_orders = int(input(\"Enter the number of customer orders: \"))\n",
    "    return {input(f\"Enter the name of a product that a customer wants to order ({i+1}/{num_orders}): \") for i in range(num_orders)}"
   ]
  },
  {
   "cell_type": "code",
   "execution_count": 7,
   "id": "a0897356-666f-4fbe-a149-89353cad6548",
   "metadata": {},
   "outputs": [],
   "source": [
    "def calculate_total_price(customer_orders):\n",
    "    \"\"\"Calculate the total price for customer orders using comprehension.\"\"\"\n",
    "    return sum(float(input(f\"Enter the price of {product}: \")) for product in customer_orders)"
   ]
  },
  {
   "cell_type": "code",
   "execution_count": 13,
   "id": "47700920-9d37-4457-8bca-c65b2ccd8716",
   "metadata": {},
   "outputs": [],
   "source": [
    "def update_inventory(customer_orders, inventory):\n",
    "    \"\"\"Update inventory based on customer orders, and remove products with zero quantity using comprehension.\"\"\"\n",
    "    inventory = {product: (quantity - 1) if product in customer_orders and quantity > 0 else quantity\n",
    "                 for product, quantity in inventory.items()}\n",
    "    \n",
    "# Remove items with zero quantity from the inventory\n",
    "    return {product: quantity for product, quantity in inventory.items() if quantity > 0}"
   ]
  },
  {
   "cell_type": "code",
   "execution_count": 19,
   "id": "fd15aff4-8441-45da-ab97-e0e86808f3a0",
   "metadata": {},
   "outputs": [],
   "source": [
    "def print_updated_inventory(inventory):\n",
    "    \"\"\"Print the updated inventory using comprehension.\"\"\"\n",
    "    print(\"Updated Inventory:\")\n",
    "    for product, quantity in inventory.items():\n",
    "        print(f\"{product}: {quantity} units remaining\")\n"
   ]
  },
  {
   "cell_type": "code",
   "execution_count": 35,
   "id": "df6343bb-df20-465f-a9ed-52805979306a",
   "metadata": {},
   "outputs": [],
   "source": [
    "if __name__ == \"__main__\":\n",
    "    main()"
   ]
  },
  {
   "cell_type": "code",
   "execution_count": null,
   "id": "fb6d0e4d-5eed-49c9-95c3-3888f9f45b3f",
   "metadata": {},
   "outputs": [],
   "source": [
    "# Full Program:"
   ]
  },
  {
   "cell_type": "code",
   "execution_count": null,
   "id": "22507c59-b701-4d07-aee9-cd33cc8a3698",
   "metadata": {},
   "outputs": [],
   "source": [
    "def initialize_inventory(products):\n",
    "    \"\"\"Initialize the inventory dictionary using comprehension.\"\"\"\n",
    "    return {product: int(input(f\"Enter the quantity of {product}s available: \")) for product in products}\n",
    "\n",
    "def get_customer_orders():\n",
    "    \"\"\"Prompt the user to enter the number of customer orders and gather product names using comprehension.\"\"\"\n",
    "    num_orders = int(input(\"Enter the number of customer orders: \"))\n",
    "    return {input(f\"Enter the name of a product that a customer wants to order ({i+1}/{num_orders}): \") for i in range(num_orders)}\n",
    "\n",
    "def calculate_total_price(customer_orders):\n",
    "    \"\"\"Calculate the total price for customer orders using comprehension.\"\"\"\n",
    "    return sum(float(input(f\"Enter the price of {product}: \")) for product in customer_orders)\n",
    "\n",
    "def update_inventory(customer_orders, inventory):\n",
    "    \"\"\"Update inventory based on customer orders, and remove products with zero quantity using comprehension.\"\"\"\n",
    "    inventory = {product: (quantity - 1) if product in customer_orders and quantity > 0 else quantity\n",
    "                 for product, quantity in inventory.items()}\n",
    "    \n",
    "    # Remove items with zero quantity from the inventory\n",
    "    return {product: quantity for product, quantity in inventory.items() if quantity > 0}\n",
    "\n",
    "def calculate_order_statistics(customer_orders, products):\n",
    "    \"\"\"Calculate order statistics: total products ordered and percentage of unique products ordered.\"\"\"\n",
    "    total_products_ordered = len(customer_orders)\n",
    "    percentage_ordered = (total_products_ordered / len(products)) * 100 if products else 0\n",
    "    return total_products_ordered, percentage_ordered\n",
    "\n",
    "def print_order_statistics(order_statistics):\n",
    "    \"\"\"Print the order statistics.\"\"\"\n",
    "    total_products_ordered, percentage_ordered = order_statistics\n",
    "    print(\"Order Statistics:\")\n",
    "    print(f\"Total Products Ordered: {total_products_ordered}\")\n",
    "    print(f\"Percentage of Unique Products Ordered: {percentage_ordered:.2f}%\")\n",
    "\n",
    "def print_updated_inventory(inventory):\n",
    "    \"\"\"Print the updated inventory using comprehension.\"\"\"\n",
    "    print(\"Updated Inventory:\")\n",
    "    for product, quantity in inventory.items():\n",
    "        print(f\"{product}: {quantity} units remaining\")\n",
    "\n",
    "# Main execution sequence\n",
    "def main():\n",
    "    products = [\"t-shirt\", \"mug\", \"hat\", \"book\", \"keychain\"]\n",
    "    \n",
    "    # Step 1: Initialize the inventory\n",
    "    inventory = initialize_inventory(products)\n",
    "    \n",
    "    # Step 2: Get customer orders\n",
    "    customer_orders = get_customer_orders()\n",
    "    \n",
    "    # Step 3: Update the inventory based on orders\n",
    "    inventory = update_inventory(customer_orders, inventory)\n",
    "    \n",
    "    # Step 4: Calculate order statistics\n",
    "    order_statistics = calculate_order_statistics(customer_orders, products)\n",
    "    \n",
    "    # Step 5: Print order statistics\n",
    "    print_order_statistics(order_statistics)\n",
    "    \n",
    "    # Step 6: Print updated inventory\n",
    "    print_updated_inventory(inventory)\n",
    "    \n",
    "    # Step 7: Calculate and print the total price of customer orders\n",
    "    total_price = calculate_total_price(customer_orders)\n",
    "    print(f\"Total Price: {total_price:.2f}\")\n",
    "\n",
    "# Run the program\n",
    "if __name__ == \"__main__\":\n",
    "    main()\n"
   ]
  },
  {
   "cell_type": "markdown",
   "id": "25d7736c-ba17-4aff-b6bb-66eba20fbf4e",
   "metadata": {},
   "source": [
    "# Lab | List, Dict and Set Comprehension"
   ]
  },
  {
   "cell_type": "markdown",
   "id": "7dd3cbde-675a-4b81-92c3-f728846dbe06",
   "metadata": {},
   "source": [
    "## Exercise: Managing Customer Orders Optimized with Comprehension"
   ]
  },
  {
   "cell_type": "markdown",
   "id": "5d500160-2fb7-4777-b5e4-09d45ebaf328",
   "metadata": {},
   "source": [
    "In the previous exercise, you developed a program to manage customer orders and inventory. Now, let's take it a step further and incorporate comprehension into your code.\n",
    "\n",
    "Follow the steps below to complete the exercise:\n",
    "\n",
    "1. Review your code from the previous exercise and identify areas where you can apply comprehension to simplify and streamline your code. \n",
    "\n",
    "    - *Hint: Apply it to initialize inventory, updating the inventory and printing the updated inventory.*\n",
    "    \n",
    "    - For example, in initializing the inventory, we could have:\n",
    "    \n",
    "        ```python\n",
    "        def initialize_inventory(products):\n",
    "            inventory = {product: int(input(f\"Enter the quantity of {product}s available: \")) for product in products}\n",
    "            return inventory\n",
    "\n",
    "        ```\n",
    "<br>\n",
    "    \n",
    "    \n",
    "2. Modify the function get_customer_orders so it prompts the user to enter the number of customer orders and gathers the product names using a loop and user input. Use comprehension.\n",
    "\n",
    "3. Add a new function to calculate the total price of the customer order. For each product in customer_orders, prompt the user to enter the price of that product. Use comprehension to calculate the total price. Note: assume that the user can only have 1 unit of each product.\n",
    "\n",
    "4. Modify the update_inventory function to remove the product from the inventory if its quantity becomes zero after fulfilling the customer orders. Use comprehension to filter out the products with a quantity of zero from the inventory.\n",
    "\n",
    "5. Print the total price of the customer order.\n",
    "\n",
    "Your code should produce output similar to the following:\n",
    "\n",
    "```python\n",
    "Enter the quantity of t-shirts available:  5\n",
    "Enter the quantity of mugs available:  4\n",
    "Enter the quantity of hats available:  3\n",
    "Enter the quantity of books available:  2\n",
    "Enter the quantity of keychains available:  1\n",
    "Enter the number of customer orders:  2\n",
    "Enter the name of a product that a customer wants to order:  hat\n",
    "Enter the name of a product that a customer wants to order:  keychain\n",
    "\n",
    "Order Statistics:\n",
    "Total Products Ordered: 2\n",
    "Percentage of Unique Products Ordered: 40.0\n",
    "\n",
    "Updated Inventory:\n",
    "t-shirt: 5\n",
    "mug: 4\n",
    "hat: 2\n",
    "book: 2\n",
    "Enter the price of keychain:  5\n",
    "Enter the price of hat:  10\n",
    "Total Price: 15.0\n",
    "\n",
    "```\n"
   ]
  }
 ],
 "metadata": {
  "kernelspec": {
   "display_name": "Python 3 (ipykernel)",
   "language": "python",
   "name": "python3"
  },
  "language_info": {
   "codemirror_mode": {
    "name": "ipython",
    "version": 3
   },
   "file_extension": ".py",
   "mimetype": "text/x-python",
   "name": "python",
   "nbconvert_exporter": "python",
   "pygments_lexer": "ipython3",
   "version": "3.12.4"
  }
 },
 "nbformat": 4,
 "nbformat_minor": 5
}
